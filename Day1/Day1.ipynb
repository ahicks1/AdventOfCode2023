{
 "cells": [
  {
   "cell_type": "markdown",
   "metadata": {},
   "source": [
    "# Day 1: Trebuchet?!\n",
    "\n",
    "Something is wrong with global snow production, and you've been selected to take a look. The Elves have even given you a map; on it, they've used stars to mark the top fifty locations that are likely to be having problems.\n",
    "\n",
    "You've been doing this long enough to know that to restore snow operations, you need to check all fifty stars by December 25th.\n",
    "\n",
    "Collect stars by solving puzzles. Two puzzles will be made available on each day in the Advent calendar; the second puzzle is unlocked when you complete the first. Each puzzle grants one star. Good luck!\n",
    "\n",
    "You try to ask why they can't just use a weather machine (\"not powerful enough\") and where they're even sending you (\"the sky\") and why your map looks mostly blank (\"you sure ask a lot of questions\") and hang on did you just say the sky (\"of course, where do you think snow comes from\") when you realize that the Elves are already loading you into a trebuchet (\"please hold still, we need to strap you in\").\n",
    "\n",
    "As they're making the final adjustments, they discover that their calibration document (your puzzle input) has been amended by a very young Elf who was apparently just excited to show off her art skills. Consequently, the Elves are having trouble reading the values on the document.\n",
    "\n",
    "The newly-improved calibration document consists of lines of text; each line originally contained a specific calibration value that the Elves now need to recover. On each line, the calibration value can be found by combining the first digit and the last digit (in that order) to form a single two-digit number.\n",
    "\n",
    "For example:\n",
    "\n",
    "1abc2\n",
    "pqr3stu8vwx\n",
    "a1b2c3d4e5f\n",
    "treb7uchet\n",
    "\n",
    "In this example, the calibration values of these four lines are 12, 38, 15, and 77. Adding these together produces 142.\n",
    "\n",
    "Consider your entire calibration document. What is the sum of all of the calibration values?\n",
    "\n"
   ]
  },
  {
   "cell_type": "code",
   "execution_count": 7,
   "metadata": {},
   "outputs": [
    {
     "name": "stdout",
     "output_type": "stream",
     "text": [
      "55108\n"
     ]
    }
   ],
   "source": [
    "import re\n",
    "\n",
    "def getNumFromString(input):\n",
    "    m = re.search(\"([0-9]).*([0-9])\", input)\n",
    "    if m:\n",
    "        return int(m.group(1)+m.group(2))\n",
    "    else:\n",
    "        return int(re.search(\"[0-9]\", input).group(0)*2)\n",
    "\n",
    "\n",
    "with open(\"input.txt\") as f:\n",
    "    inputLines = f.read().splitlines() \n",
    "    print(sum([getNumFromString(x) for x in inputLines]))\n",
    "    # print(getNumFromString(inputLines[0]))"
   ]
  },
  {
   "cell_type": "code",
   "execution_count": 27,
   "metadata": {},
   "outputs": [
    {
     "name": "stdout",
     "output_type": "stream",
     "text": [
      "56324\n"
     ]
    }
   ],
   "source": []
  },
  {
   "cell_type": "markdown",
   "metadata": {},
   "source": [
    "## Part Two\n",
    "\n",
    "Your calculation isn't quite right. It looks like some of the digits are actually spelled out with letters: one, two, three, four, five, six, seven, eight, and nine also count as valid \"digits\".\n",
    "\n",
    "Equipped with this new information, you now need to find the real first and last digit on each line. For example:\n",
    "\n",
    "two1nine\n",
    "eightwothree\n",
    "abcone2threexyz\n",
    "xtwone3four\n",
    "4nineeightseven2\n",
    "zoneight234\n",
    "7pqrstsixteen\n",
    "\n",
    "In this example, the calibration values are 29, 83, 13, 24, 42, 14, and 76. Adding these together produces 281.\n",
    "\n",
    "What is the sum of all of the calibration values?"
   ]
  },
  {
   "cell_type": "code",
   "execution_count": 28,
   "metadata": {},
   "outputs": [
    {
     "name": "stdout",
     "output_type": "stream",
     "text": [
      "56324\n"
     ]
    }
   ],
   "source": [
    "badRegex = \"([0-9]|one|two|three|four|five|six|seven|eight|nine).*([0-9]|one|two|three|four|five|six|seven|eight|nine)\"\n",
    "def getNumFromString2(input):\n",
    "    m = re.search(badRegex, input)\n",
    "    if m:\n",
    "        return convertToInt(m.group(1))*10+convertToInt(m.group(2))\n",
    "    else:\n",
    "        num = convertToInt(re.search(\"[0-9]|one|two|three|four|five|six|seven|eight|nine\", input).group(0))\n",
    "        return num*10+num\n",
    "    \n",
    "def convertToInt(s):\n",
    "    try:\n",
    "        return int(s)\n",
    "    except ValueError:\n",
    "        return [\"\", \"one\", \"two\", \"three\", \"four\", \"five\", \"six\", \"seven\", \"eight\", \"nine\"].index(s)\n",
    "    \n",
    "with open(\"input.txt\") as f:\n",
    "    inputLines = f.read().splitlines() \n",
    "    print(sum([getNumFromString2(x) for x in inputLines]))\n",
    "    # print(getNumFromString2(inputLines[0]))\n",
    "    # print(convertToInt(\"four\"))"
   ]
  },
  {
   "cell_type": "code",
   "execution_count": 4,
   "metadata": {},
   "outputs": [
    {
     "name": "stdout",
     "output_type": "stream",
     "text": [
      "56324\n"
     ]
    }
   ],
   "source": [
    "import re\n",
    "l,r = \"|one|two|three|four|five|six|seven|eight|nine\",\"[0-9]\"\n",
    "def getNum(s):\n",
    "    return int(''.join(map(lambda i: i if re.match(r,i) else str(l.split(\"|\").index(i)), re.search(\"(\"+r+l+\").*(\"+r+l+\")\",s*2).group(1,2))))\n",
    "\n",
    "print(sum([getNum(s.strip()) for s in open(\"input.txt\")]))"
   ]
  },
  {
   "cell_type": "code",
   "execution_count": 14,
   "metadata": {},
   "outputs": [
    {
     "name": "stdout",
     "output_type": "stream",
     "text": [
      "56324\n"
     ]
    }
   ],
   "source": [
    "import re\n",
    "l,r=\"|one|two|three|four|five|six|seven|eight|nine\",\"[0-9]\"\n",
    "print(sum([int(''.join(map(lambda i:i if re.match(r,i) else str(l.split(\"|\").index(i)),\n",
    "re.search(f\"({r+l}).*({r+l})\",s.strip()*2).group(1,2))))for s in open(\"input.txt\")]))\n"
   ]
  },
  {
   "cell_type": "code",
   "execution_count": 8,
   "metadata": {},
   "outputs": [
    {
     "name": "stdout",
     "output_type": "stream",
     "text": [
      "66487\n",
      "197301\n",
      "66487 197301\n"
     ]
    }
   ],
   "source": [
    "import re\n",
    "l,r = \"|one|two|three|four|five|six|seven|eight|nine\",\"[0-9]\"\n",
    "print(sum([int(''.join(re.search(\"(\"+r+\").*(\"+r+\")\",s.strip()*2).group(1,2))) for s in open(\"input.txt\")]))\n",
    "print(sum([int(''.join(map(lambda i: i if re.match(r,i) else str(l.split(\"|\").index(i)), re.search(\"(\"+r+l+\").*(\"+r+l+\")\",s.strip()*2).group(1,2)))) for s in open(\"input.txt\")]))\n"
   ]
  }
 ],
 "metadata": {
  "kernelspec": {
   "display_name": "Python 3.9.6 64-bit",
   "language": "python",
   "name": "python3"
  },
  "language_info": {
   "codemirror_mode": {
    "name": "ipython",
    "version": 3
   },
   "file_extension": ".py",
   "mimetype": "text/x-python",
   "name": "python",
   "nbconvert_exporter": "python",
   "pygments_lexer": "ipython3",
   "version": "3.9.6"
  },
  "orig_nbformat": 4,
  "vscode": {
   "interpreter": {
    "hash": "31f2aee4e71d21fbe5cf8b01ff0e069b9275f58929596ceb00d14d90e3e16cd6"
   }
  }
 },
 "nbformat": 4,
 "nbformat_minor": 2
}
