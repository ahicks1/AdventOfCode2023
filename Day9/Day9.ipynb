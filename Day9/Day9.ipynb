{
 "cells": [
  {
   "cell_type": "markdown",
   "metadata": {},
   "source": [
    "# Day 9\n",
    "\n"
   ]
  },
  {
   "cell_type": "code",
   "execution_count": 34,
   "metadata": {},
   "outputs": [
    {
     "name": "stdout",
     "output_type": "stream",
     "text": [
      "[17307029, 4083587, 6784689, 27311719, 123, 28742678, -5653, 31637882, 4937951, 208627, 20380968, 2747, 203, 35862791, 16590505, -1853554, 24106057, 498114, 30732277, 25227, 19055030, 22353537, 691566, 6793432, 33396999, 10174, 16447930, 11826454, 18323224, 25208247, 17736209, 11803111, 2932837, 1327, 17704920, 27103533, 1168212, 13822043, 22007214, 1818045, 4317305, 77, 718130, 92758, 9679424, 757341, 3486976, 1313614, 32693, 31611732, -128928, 33856, 15429989, 12223, 29079852, 300, -164335, 17091605, 29739593, -245895, -11498, 10709891, 333, 17920268, 17829354, -502, 20995372, 11398839, 791721, 34921928, 9301, 537580, 7162392, 14956722, 548950, -33, 24366, 24565569, -29, 13988, 23853807, 107, 19933738, 3539, 2902746, 28597758, 74091, 13402652, 6219626, 8583442, 29786465, 20592718, 1811457, 2874765, 12526315, 254508, 27183187, 16323895, 2209082, 10925, -26, 1764538, 12477, 149, 31319693, -6152, 1084373, 10653159, 17038425, 9279041, 190, 287297, 1987671, 7926, 32220156, 257, 12522989, -1351, 25337725, 18024409, 70238, 19882425, 4477013, -661, 17170019, 17947630, 609687, 3345124, 162, 12889550, 81220, 6518, 9885225, 1021111, 111073, -528618, 1434943, -2230, -249548, 12790007, 273, 4932711, 47044, 28418993, 2127, 13769937, 125907, 309, 5062444, 19871526, 37242, 10878924, 12441636, 2712002, 29, 2339192, 451971, 3141746, 226306, 6147930, 112390, 736138, 778432, 1862615, 32629, 15241496, 218, 13475420, 262, 18416080, -109512, 38385862, 3732, 941420, 22916523, 11959261, 6674074, 24595738, 15218803, 3937384, -1187, 3059577, 22626197, 18091310, -5399, 3702992, 20784724, 12921533, 15195697, 931, -41, 9358492, -77, 11945714, 340453, 7787302, 1214232, 292666, 15372033, 222525]\n",
      "1731106378\n"
     ]
    }
   ],
   "source": [
    "def getLast(nums):\n",
    "    # print(nums)\n",
    "    if(len(set(nums))==1 and 0 in nums):\n",
    "        return 0\n",
    "    down = [nums[i+1]-nums[i] for i in range(len(nums)-1)]\n",
    "    res = getLast(down)\n",
    "    # print(res)\n",
    "    return res+nums[-1]\n",
    " \n",
    "def answer(input):\n",
    "    res = []\n",
    "    for l in input:\n",
    "        a = getLast([*map(int,l.split(\" \"))]) \n",
    "        res.append(a)\n",
    "    print (res)\n",
    "    return sum(res)\n",
    "\n",
    "with open(\"input.txt\") as f:\n",
    "   print(answer(f.readlines()))\n",
    "   # > 619203194\n",
    "   # < 1731106418\n",
    "   # Not \n",
    "\n",
    "    "
   ]
  },
  {
   "cell_type": "code",
   "execution_count": null,
   "metadata": {},
   "outputs": [],
   "source": [
    "l,_,*f=open(\"i\").readlines()\n",
    "c,s,i={m[0:3]:{\"L\":m[7:10],\"R\":m[12:15]}for m in f},\"AAA\",0\n",
    "while 1:\n",
    " s=c[s][l[i%(len(l)-1)]];i=i+1\n",
    " if\"ZZZ\"==s:print(i);break\n",
    "\n"
   ]
  },
  {
   "cell_type": "markdown",
   "metadata": {},
   "source": [
    "## Part Two\n",
    "\n",
    "The sandstorm is upon you and you aren't any closer to escaping the wasteland. You had the camel follow the instructions, but you've barely left your starting position. It's going to take significantly more steps to escape!\n",
    "\n",
    "What if the map isn't for people - what if the map is for ghosts? Are ghosts even bound by the laws of spacetime? Only one way to find out.\n",
    "\n",
    "After examining the maps a bit longer, your attention is drawn to a curious fact: the number of nodes with names ending in A is equal to the number ending in Z! If you were a ghost, you'd probably just start at every node that ends with A and follow all of the paths at the same time until they all simultaneously end up at nodes that end with Z.\n",
    "\n",
    "For example:\n",
    "\n",
    "LR\n",
    "\n",
    "11A = (11B, XXX)\n",
    "11B = (XXX, 11Z)\n",
    "11Z = (11B, XXX)\n",
    "22A = (22B, XXX)\n",
    "22B = (22C, 22C)\n",
    "22C = (22Z, 22Z)\n",
    "22Z = (22B, 22B)\n",
    "XXX = (XXX, XXX)\n",
    "\n",
    "Here, there are two starting nodes, 11A and 22A (because they both end with A). As you follow each left/right instruction, use that instruction to simultaneously navigate away from both nodes you're currently on. Repeat this process until all of the nodes you're currently on end with Z. (If only some of the nodes you're on end with Z, they act like any other node and you continue as normal.) In this example, you would proceed as follows:\n",
    "\n",
    "    Step 0: You are at 11A and 22A.\n",
    "    Step 1: You choose all of the left paths, leading you to 11B and 22B.\n",
    "    Step 2: You choose all of the right paths, leading you to 11Z and 22C.\n",
    "    Step 3: You choose all of the left paths, leading you to 11B and 22Z.\n",
    "    Step 4: You choose all of the right paths, leading you to 11Z and 22B.\n",
    "    Step 5: You choose all of the left paths, leading you to 11B and 22C.\n",
    "    Step 6: You choose all of the right paths, leading you to 11Z and 22Z.\n",
    "\n",
    "So, in this example, you end up entirely on nodes that end in Z after 6 steps.\n",
    "\n",
    "Simultaneously start on every node that ends with A. How many steps does it take before you're only on nodes that end with Z?"
   ]
  },
  {
   "cell_type": "code",
   "execution_count": 35,
   "metadata": {},
   "outputs": [
    {
     "name": "stdout",
     "output_type": "stream",
     "text": [
      "[13, 2, -1, 11, 13, -3, 12, 4, 7, 12, 5, -3, 5, 5, 2, -2, 1, 12, 12, 4, 0, 7, 7, -3, -2, 10, 11, 13, -3, 7, -4, 12, 6, 7, -3, 6, 1, 11, 1, 9, 14, 11, 5, -5, 9, 13, -2, 5, 12, 14, 3, 9, -3, 13, 4, 14, 4, 12, 3, 10, -3, -2, 14, -2, 14, 15, -3, -3, 7, 15, 6, -1, -5, 10, -5, 11, 12, 7, 15, -4, 0, -3, -3, 8, 0, -3, 6, 10, 10, 10, 10, -5, -1, 14, -1, 1, 3, 11, 7, 2, -4, 6, 3, -5, 15, 8, 15, 11, 12, -5, 14, -1, 15, -5, 12, 15, 15, 13, 7, 13, 14, 11, 2, -1, 9, 9, 1, 13, 8, 8, 7, -5, 14, 14, 6, -2, -1, 3, 9, -2, 9, 14, 8, 0, 15, 7, 12, 1, 4, -1, 7, 11, 2, -4, 7, 9, 14, 3, 14, -4, 3, -4, 6, 7, 3, 2, -2, 7, -2, -2, 15, 12, 3, -4, 14, 6, 11, -1, -5, 11, 12, 4, 5, 11, 13, -4, 7, 7, -5, -4, 3, -5, 11, 9, 3, 13, -3, 0, 2, 6]\n",
      "1087\n"
     ]
    }
   ],
   "source": [
    "def getLast(nums):\n",
    "    # print(nums)\n",
    "    if(len(set(nums))==1 and 0 in nums):\n",
    "        return 0\n",
    "    down = [nums[i+1]-nums[i] for i in range(len(nums)-1)]\n",
    "    res = getLast(down)\n",
    "    # print(res)\n",
    "    return nums[0]-res\n",
    " \n",
    "def answer(input):\n",
    "    res = []\n",
    "    for l in input:\n",
    "        a = getLast([*map(int,l.split(\" \"))]) \n",
    "        res.append(a)\n",
    "    print (res)\n",
    "    return sum(res)\n",
    "\n",
    "with open(\"input.txt\") as f:\n",
    "   print(answer(f.readlines()))\n",
    "   # > 619203194\n",
    "   # < 1731106418\n",
    "   # Not "
   ]
  },
  {
   "cell_type": "code",
   "execution_count": null,
   "metadata": {},
   "outputs": [],
   "source": [
    "import math\n",
    "l,_,*f=open(\"i\").readlines()\n",
    "c={m[0:3]:{\"L\":m[7:10],\"R\":m[12:15]}for m in f}\n",
    "def g(s,i):\n",
    " while 1:\n",
    "  s=c[s][l[i%(len(l)-1)]];i=i+1\n",
    "  if\"Z\"==s[2]:return i\n",
    "print(math.lcm(*[g(s,0)for s in c if\"A\"==s[2]]))"
   ]
  },
  {
   "cell_type": "markdown",
   "metadata": {},
   "source": [
    "### Golf Work\n",
    "\n",
    "Saved for future reference"
   ]
  },
  {
   "cell_type": "code",
   "execution_count": null,
   "metadata": {},
   "outputs": [],
   "source": []
  }
 ],
 "metadata": {
  "kernelspec": {
   "display_name": "Python 3.9.6 64-bit",
   "language": "python",
   "name": "python3"
  },
  "language_info": {
   "codemirror_mode": {
    "name": "ipython",
    "version": 3
   },
   "file_extension": ".py",
   "mimetype": "text/x-python",
   "name": "python",
   "nbconvert_exporter": "python",
   "pygments_lexer": "ipython3",
   "version": "3.9.6"
  },
  "orig_nbformat": 4,
  "vscode": {
   "interpreter": {
    "hash": "31f2aee4e71d21fbe5cf8b01ff0e069b9275f58929596ceb00d14d90e3e16cd6"
   }
  }
 },
 "nbformat": 4,
 "nbformat_minor": 2
}
