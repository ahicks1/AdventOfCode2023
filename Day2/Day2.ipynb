{
 "cells": [
  {
   "cell_type": "markdown",
   "metadata": {},
   "source": [
    "# Day 2: Cube Conundrum\n",
    "\n",
    "You're launched high into the atmosphere! The apex of your trajectory just barely reaches the surface of a large island floating in the sky. You gently land in a fluffy pile of leaves. It's quite cold, but you don't see much snow. An Elf runs over to greet you.\n",
    "\n",
    "The Elf explains that you've arrived at Snow Island and apologizes for the lack of snow. He'll be happy to explain the situation, but it's a bit of a walk, so you have some time. They don't get many visitors up here; would you like to play a game in the meantime?\n",
    "\n",
    "As you walk, the Elf shows you a small bag and some cubes which are either red, green, or blue. Each time you play this game, he will hide a secret number of cubes of each color in the bag, and your goal is to figure out information about the number of cubes.\n",
    "\n",
    "To get information, once a bag has been loaded with cubes, the Elf will reach into the bag, grab a handful of random cubes, show them to you, and then put them back in the bag. He'll do this a few times per game.\n",
    "\n",
    "You play several games and record the information from each game (your puzzle input). Each game is listed with its ID number (like the 11 in Game 11: ...) followed by a semicolon-separated list of subsets of cubes that were revealed from the bag (like 3 red, 5 green, 4 blue).\n",
    "\n",
    "For example, the record of a few games might look like this:\n",
    "\n",
    "\n",
    "```\n",
    "Game 1: 3 blue, 4 red; 1 red, 2 green, 6 blue; 2 green\n",
    "Game 2: 1 blue, 2 green; 3 green, 4 blue, 1 red; 1 green, 1 blue\n",
    "Game 3: 8 green, 6 blue, 20 red; 5 blue, 4 red, 13 green; 5 green, 1 red\n",
    "Game 4: 1 green, 3 red, 6 blue; 3 green, 6 red; 3 green, 15 blue, 14 red\n",
    "Game 5: 6 red, 1 blue, 3 green; 2 blue, 1 red, 2 green\n",
    "```\n",
    "\n",
    "In game 1, three sets of cubes are revealed from the bag (and then put back again). The first set is 3 blue cubes and 4 red cubes; the second set is 1 red cube, 2 green cubes, and 6 blue cubes; the third set is only 2 green cubes.\n",
    "\n",
    "The Elf would first like to know which games would have been possible if the bag contained only 12 red cubes, 13 green cubes, and 14 blue cubes?\n",
    "\n",
    "In the example above, games 1, 2, and 5 would have been possible if the bag had been loaded with that configuration. However, game 3 would have been impossible because at one point the Elf showed you 20 red cubes at once; similarly, game 4 would also have been impossible because the Elf showed you 15 blue cubes at once. If you add up the IDs of the games that would have been possible, you get 8.\n",
    "\n",
    "Determine which games would have been possible if the bag had been loaded with only 12 red cubes, 13 green cubes, and 14 blue cubes. What is the sum of the IDs of those games?\n",
    "\n"
   ]
  },
  {
   "cell_type": "code",
   "execution_count": 15,
   "metadata": {},
   "outputs": [
    {
     "name": "stdout",
     "output_type": "stream",
     "text": [
      "1734\n",
      "1\n"
     ]
    }
   ],
   "source": [
    "import re\n",
    "from dataclasses import dataclass\n",
    "\n",
    "def parseLine(line):\n",
    "    game, guesses = re.search(\"Game (\\d):(.*)\", line).group(1,2)\n",
    "    print(game, guesses.split(\";\"))\n",
    "\n",
    "# def parseReveal(reveal):\n",
    "    # returnreveal.split(\",\")\n",
    "\n",
    "def isValid(game):\n",
    "    for num, color in re.findall(\"(\\d+) (green|red|blue)\", game):\n",
    "        if color == \"red\" and int(num) > 12:\n",
    "            return 0\n",
    "        elif color == \"green\" and int(num) > 13:\n",
    "            return 0\n",
    "        elif color == \"blue\" and int(num) > 14:\n",
    "            return 0\n",
    "    return int(re.search(\"Game (\\d+):\", game).group(1))\n",
    "         \n",
    "\n",
    "with open(\"input.txt\") as f:\n",
    "    inputLines = f.read().splitlines() \n",
    "    print(sum([ isValid(l) for l in inputLines]))\n",
    "    # print(isValid(\"Game 1: 3 blue, 4 red; 1 red, 2 green, 6 blue; 2 green\"))\n",
    "    # print(sum([getNumFromString(x) for x in inputLines]))\n",
    "    # print(getNumFromString(inputLines[0]))"
   ]
  },
  {
   "cell_type": "markdown",
   "metadata": {},
   "source": [
    "## Part Two\n",
    "\n",
    "The Elf says they've stopped producing snow because they aren't getting any water! He isn't sure why the water stopped; however, he can show you how to get to the water source to check it out for yourself. It's just up ahead!\n",
    "\n",
    "As you continue your walk, the Elf poses a second question: in each game you played, what is the fewest number of cubes of each color that could have been in the bag to make the game possible?\n",
    "\n",
    "Again consider the example games from earlier:\n",
    "\n",
    "```\n",
    "Game 1: 3 blue, 4 red; 1 red, 2 green, 6 blue; 2 green\n",
    "Game 2: 1 blue, 2 green; 3 green, 4 blue, 1 red; 1 green, 1 blue\n",
    "Game 3: 8 green, 6 blue, 20 red; 5 blue, 4 red, 13 green; 5 green, 1 red\n",
    "Game 4: 1 green, 3 red, 6 blue; 3 green, 6 red; 3 green, 15 blue, 14 red\n",
    "Game 5: 6 red, 1 blue, 3 green; 2 blue, 1 red, 2 green\n",
    "```\n",
    "\n",
    "* In game 1, the game could have been played with as few as 4 red, 2 green, and 6 blue cubes. If any color had even one fewer cube, the game would have been impossible.\n",
    "* Game 2 could have been played with a minimum of 1 red, 3 green, and 4 blue cubes.\n",
    "* Game 3 must have been played with at least 20 red, 13 green, and 6 blue cubes.\n",
    "* Game 4 required at least 14 red, 3 green, and 15 blue cubes.\n",
    "* Game 5 needed no fewer than 6 red, 3 green, and 2 blue cubes in the bag.\n",
    "\n",
    "The power of a set of cubes is equal to the numbers of red, green, and blue cubes multiplied together. The power of the minimum set of cubes in game 1 is `48`. In games 2-5 it was `12`, `1560`, `630`, and `36`, respectively. Adding up these five powers produces the sum `2286`.\n",
    "\n",
    "For each game, find the minimum set of cubes that must have been present. What is the sum of the power of these sets?"
   ]
  },
  {
   "cell_type": "code",
   "execution_count": 19,
   "metadata": {},
   "outputs": [
    {
     "name": "stdout",
     "output_type": "stream",
     "text": [
      "1560\n",
      "70387\n"
     ]
    }
   ],
   "source": [
    "import re\n",
    "from dataclasses import dataclass\n",
    "\n",
    "def parseLine(line):\n",
    "    game, guesses = re.search(\"Game (\\d):(.*)\", line).group(1,2)\n",
    "    print(game, guesses.split(\";\"))\n",
    "\n",
    "# def parseReveal(reveal):\n",
    "    # returnreveal.split(\",\")\n",
    "\n",
    "def getPower(game):\n",
    "    r,g,b = 0,0,0\n",
    "    for num, color in re.findall(\"(\\d+) (green|red|blue)\", game):\n",
    "        if color == \"red\":\n",
    "            r = max(r,int(num))\n",
    "        elif color == \"green\":\n",
    "            g = max(g,int(num))\n",
    "        elif color == \"blue\":\n",
    "            b = max(b,int(num))\n",
    "    return r*g*b\n",
    "         \n",
    "\n",
    "with open(\"input.txt\") as f:\n",
    "    inputLines = f.read().splitlines() \n",
    "    print(getPower(\"Game 3: 8 green, 6 blue, 20 red; 5 blue, 4 red, 13 green; 5 green, 1 red\"))\n",
    "    print(sum([ getPower(l) for l in inputLines]))"
   ]
  },
  {
   "cell_type": "code",
   "execution_count": 17,
   "metadata": {},
   "outputs": [
    {
     "name": "stdout",
     "output_type": "stream",
     "text": [
      "56324\n"
     ]
    }
   ],
   "source": [
    "# Golfed solution\n",
    "import re\n",
    "l,r=\"|one|two|three|four|five|six|seven|eight|nine\",\"\\d\"\n",
    "print(sum([int(''.join([n if re.match(r,n)else str(l.split(\"|\").index(n))for n in re.search(f\"({r+l}).*({r+l})\",s.strip()*2).group(1,2)]))for s in open(\"i\")]))"
   ]
  },
  {
   "cell_type": "markdown",
   "metadata": {},
   "source": [
    "### Golf Work\n",
    "\n",
    "Saved for future reference"
   ]
  },
  {
   "cell_type": "code",
   "execution_count": null,
   "metadata": {},
   "outputs": [],
   "source": [
    "import re\n",
    "l,r = \"|one|two|three|four|five|six|seven|eight|nine\",\"[0-9]\"\n",
    "def getNum(s):\n",
    "    return int(''.join(map(lambda i: i if re.match(r,i) else str(l.split(\"|\").index(i)), re.search(\"(\"+r+l+\").*(\"+r+l+\")\",s*2).group(1,2))))\n",
    "\n",
    "print(sum([getNum(s.strip()) for s in open(\"input.txt\")]))\n",
    "import re\n",
    "l,r=\"|one|two|three|four|five|six|seven|eight|nine\",\"[0-9]\"\n",
    "print(sum([int(''.join(map(lambda i:i if re.match(r,i) else str(l.split(\"|\").index(i)),\n",
    "re.search(f\"({r+l}).*({r+l})\",s.strip()*2).group(1,2))))for s in open(\"input.txt\")]))\n",
    "\n",
    "\n",
    "# map(lambda i:i if re.match(r,i) else str(l.split(\"|\").index(i)), re.search(f\"({r+l}).*({r+l})\",s.strip()*2).group(1,2))\n",
    "# [i if re.match(r,i) else str(l.split(\"|\").index(i)) for i in re.search(f\"({r+l}).*({r+l})\",s.strip()*2).group(1,2)]\n",
    "import re\n",
    "l,r=\"|one|two|three|four|five|six|seven|eight|nine\",\"[0-9]\"\n",
    "print(sum([int(''.join([n if re.match(r,n)else str(l.split(\"|\").index(n))for n in re.search(f\"({r+l}).*({r+l})\",s.strip()*2).group(1,2)]))for s in open(\"i\")]))\n",
    "\n",
    "\n",
    "import re\n",
    "print(sum([int(''.join(re.search(f\"(\\d).*(\\d)\",s.strip()*2).group(1,2)))for s in open(\"i\")]))"
   ]
  }
 ],
 "metadata": {
  "kernelspec": {
   "display_name": "Python 3.9.6 64-bit",
   "language": "python",
   "name": "python3"
  },
  "language_info": {
   "codemirror_mode": {
    "name": "ipython",
    "version": 3
   },
   "file_extension": ".py",
   "mimetype": "text/x-python",
   "name": "python",
   "nbconvert_exporter": "python",
   "pygments_lexer": "ipython3",
   "version": "3.9.6"
  },
  "orig_nbformat": 4,
  "vscode": {
   "interpreter": {
    "hash": "31f2aee4e71d21fbe5cf8b01ff0e069b9275f58929596ceb00d14d90e3e16cd6"
   }
  }
 },
 "nbformat": 4,
 "nbformat_minor": 2
}
