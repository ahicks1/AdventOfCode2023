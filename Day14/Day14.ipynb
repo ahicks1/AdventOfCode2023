{
 "cells": [
  {
   "cell_type": "markdown",
   "metadata": {},
   "source": [
    "# Day 14\n"
   ]
  },
  {
   "cell_type": "code",
   "execution_count": 65,
   "metadata": {},
   "outputs": [
    {
     "name": "stdout",
     "output_type": "stream",
     "text": [
      "Found cycle of length  72  Starting at 103\n",
      "Cycle at 1000000000 is  136\n",
      "Score for 136 is 83790\n",
      "0\n"
     ]
    }
   ],
   "source": [
    "\n",
    " \n",
    "import re\n",
    "\n",
    "def transpose(table):\n",
    "   return [\"\".join([t[i] for t in table[::-1]]) for i in range(len(table[0]))]\n",
    "\n",
    "def weighRow(row):\n",
    "   # r = \"#\".join([\"\".join(sorted(x, reverse=True)) for x in row.split(\"#\")])\n",
    "   weight = sum([i+1 for i,x in enumerate(row) if x == \"O\"])\n",
    "   print(row, weight)\n",
    "   return weight\n",
    "\n",
    "def cycle(table):\n",
    "   for i in range(4):\n",
    "      table = [\"#\".join([\"\".join(sorted(x)) for x in r.split(\"#\")]) for r in transpose(table)]\n",
    "      # print(\"Tilted times: \",i+1)\n",
    "      # print(\"\\n\".join(table))\n",
    "   return table\n",
    "\n",
    "\n",
    "\n",
    "def answer(input: list[str]):\n",
    "   # ret = [(l.count(\"?\"),l) for l in input]\n",
    "   total=0\n",
    "   # rows = transpose(input)\n",
    "   # for row in rows:\n",
    "   #    total+=weighRow(row)\n",
    "   tables = dict()\n",
    "   t = input\n",
    "   i = 0\n",
    "   # cycle(t)\n",
    "   while \"-\".join(t) not in tables:\n",
    "      tables[\"-\".join(t)] = i\n",
    "      t = cycle(t)\n",
    "      i+=1\n",
    "      # print(\"Cycled times: \",i)\n",
    "      # print(\"\\n\".join(t))\n",
    "   length = i-tables[\"-\".join(t)]\n",
    "   start = tables[\"-\".join(t)]\n",
    "   print(\"Found cycle of length \", i-tables[\"-\".join(t)], \" Starting at\", tables[\"-\".join(t)])\n",
    "   print(\"Cycle at 1000000000 is \", start+((1_000_000_000-start)%length))\n",
    "   for m,c in tables.items():\n",
    "      tempTotal=0\n",
    "      for ind,row in enumerate(m.split(\"-\")[::-1]):\n",
    "         tempTotal+=row.count(\"O\")*(ind+1)\n",
    "      if c == start+((1_000_000_000-start)%length):\n",
    "         print(f\"Score for {c} is {tempTotal}\")\n",
    "\n",
    "   return total\n",
    "\n",
    "   \n",
    "\n",
    "with open(\"input.txt\") as f:\n",
    "   print(answer(f.read().split(\"\\n\")))\n",
    "\n",
    "    "
   ]
  },
  {
   "cell_type": "code",
   "execution_count": null,
   "metadata": {},
   "outputs": [],
   "source": []
  },
  {
   "cell_type": "markdown",
   "metadata": {},
   "source": [
    "# Part 2"
   ]
  },
  {
   "cell_type": "code",
   "execution_count": null,
   "metadata": {},
   "outputs": [],
   "source": []
  },
  {
   "cell_type": "code",
   "execution_count": null,
   "metadata": {},
   "outputs": [],
   "source": []
  },
  {
   "cell_type": "markdown",
   "metadata": {},
   "source": [
    "### Golf Work\n",
    "\n",
    "Saved for future reference"
   ]
  },
  {
   "cell_type": "code",
   "execution_count": null,
   "metadata": {},
   "outputs": [],
   "source": []
  }
 ],
 "metadata": {
  "kernelspec": {
   "display_name": "Python 3.9.6 64-bit",
   "language": "python",
   "name": "python3"
  },
  "language_info": {
   "codemirror_mode": {
    "name": "ipython",
    "version": 3
   },
   "file_extension": ".py",
   "mimetype": "text/x-python",
   "name": "python",
   "nbconvert_exporter": "python",
   "pygments_lexer": "ipython3",
   "version": "3.9.6"
  },
  "orig_nbformat": 4,
  "vscode": {
   "interpreter": {
    "hash": "31f2aee4e71d21fbe5cf8b01ff0e069b9275f58929596ceb00d14d90e3e16cd6"
   }
  }
 },
 "nbformat": 4,
 "nbformat_minor": 2
}
