{
 "cells": [
  {
   "cell_type": "markdown",
   "metadata": {},
   "source": [
    "# Day 13\n"
   ]
  },
  {
   "cell_type": "code",
   "execution_count": 21,
   "metadata": {},
   "outputs": [
    {
     "name": "stdout",
     "output_type": "stream",
     "text": [
      "42996\n"
     ]
    }
   ],
   "source": [
    "\n",
    " \n",
    "import re\n",
    "\n",
    "def countDiff(line1,line2):\n",
    "   return sum([1 for x,y in zip(line1,line2) if x!=y])\n",
    "\n",
    "\n",
    "def findReflection(input):\n",
    "   # print(\"puzzle\")\n",
    "   for i in range(1,len(input)):\n",
    "      if sum([countDiff(x,y) for x,y in zip(input[i:],input[:i][::-1])]) == 1:\n",
    "         # print(\"Horizonal at \", i)\n",
    "         return i\n",
    "   return 0\n",
    "\n",
    "def transpose(table):\n",
    "   return [\"\".join([t[i] for t in table]) for i in range(len(table[0]))]\n",
    "      \n",
    "\n",
    "\n",
    "\n",
    "def answer(input: list[str]):\n",
    "   # ret = [(l.count(\"?\"),l) for l in input]\n",
    "   total=0\n",
    "   for index, i in enumerate(input):\n",
    "      table = i.split(\"\\n\")\n",
    "      horizontal = findReflection(table)\n",
    "      verticalTable = transpose(table)\n",
    "      # print(verticalTable)\n",
    "      vertical = findReflection(verticalTable)\n",
    "      if(horizontal+vertical == 0):\n",
    "         print(\"ERROR!\", index)\n",
    "         print(\"\\n\".join(table))\n",
    "      total+=horizontal*100+vertical\n",
    "   return total\n",
    "\n",
    "   \n",
    "\n",
    "with open(\"input.txt\") as f:\n",
    "   print(answer(f.read().split(\"\\n\\n\")))\n",
    "\n",
    "    "
   ]
  },
  {
   "cell_type": "code",
   "execution_count": null,
   "metadata": {},
   "outputs": [],
   "source": []
  },
  {
   "cell_type": "markdown",
   "metadata": {},
   "source": [
    "# Part 2"
   ]
  },
  {
   "cell_type": "code",
   "execution_count": null,
   "metadata": {},
   "outputs": [],
   "source": []
  },
  {
   "cell_type": "code",
   "execution_count": null,
   "metadata": {},
   "outputs": [],
   "source": []
  },
  {
   "cell_type": "markdown",
   "metadata": {},
   "source": [
    "### Golf Work\n",
    "\n",
    "Saved for future reference"
   ]
  },
  {
   "cell_type": "code",
   "execution_count": null,
   "metadata": {},
   "outputs": [],
   "source": []
  }
 ],
 "metadata": {
  "kernelspec": {
   "display_name": "Python 3.9.6 64-bit",
   "language": "python",
   "name": "python3"
  },
  "language_info": {
   "codemirror_mode": {
    "name": "ipython",
    "version": 3
   },
   "file_extension": ".py",
   "mimetype": "text/x-python",
   "name": "python",
   "nbconvert_exporter": "python",
   "pygments_lexer": "ipython3",
   "version": "3.9.6"
  },
  "orig_nbformat": 4,
  "vscode": {
   "interpreter": {
    "hash": "31f2aee4e71d21fbe5cf8b01ff0e069b9275f58929596ceb00d14d90e3e16cd6"
   }
  }
 },
 "nbformat": 4,
 "nbformat_minor": 2
}
