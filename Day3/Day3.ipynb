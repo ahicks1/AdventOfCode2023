{
 "cells": [
  {
   "cell_type": "markdown",
   "metadata": {},
   "source": [
    "# Day 3: Cube Conundrum\n",
    "\n",
    "You and the Elf eventually reach a gondola lift station; he says the gondola lift will take you up to the water source, but this is as far as he can bring you. You go inside.\n",
    "\n",
    "It doesn't take long to find the gondolas, but there seems to be a problem: they're not moving.\n",
    "\n",
    "\"Aaah!\"\n",
    "\n",
    "You turn around to see a slightly-greasy Elf with a wrench and a look of surprise. \"Sorry, I wasn't expecting anyone! The gondola lift isn't working right now; it'll still be a while before I can fix it.\" You offer to help.\n",
    "\n",
    "The engineer explains that an engine part seems to be missing from the engine, but nobody can figure out which one. If you can add up all the part numbers in the engine schematic, it should be easy to work out which part is missing.\n",
    "\n",
    "The engine schematic (your puzzle input) consists of a visual representation of the engine. There are lots of numbers and symbols you don't really understand, but apparently any number adjacent to a symbol, even diagonally, is a \"part number\" and should be included in your sum. (Periods (.) do not count as a symbol.)\n",
    "\n",
    "Here is an example engine schematic:\n",
    "```\n",
    "467..114..\n",
    "...*......\n",
    "..35..633.\n",
    "......#...\n",
    "617*......\n",
    ".....+.58.\n",
    "..592.....\n",
    "......755.\n",
    "...$.*....\n",
    ".664.598..\n",
    "```\n",
    "In this schematic, two numbers are not part numbers because they are not adjacent to a symbol: 114 (top right) and 58 (middle right). Every other number is adjacent to a symbol and so is a part number; their sum is 4361.\n",
    "\n",
    "Of course, the actual engine schematic is much larger. What is the sum of all of the part numbers in the engine schematic?"
   ]
  },
  {
   "cell_type": "code",
   "execution_count": 10,
   "metadata": {},
   "outputs": [
    {
     "name": "stdout",
     "output_type": "stream",
     "text": [
      "543867\n"
     ]
    }
   ],
   "source": [
    "import re\n",
    "\n",
    "def getNextMatches(line):\n",
    "    return re.finditer(\"[0-9]+\", line)\n",
    "\n",
    "with open(\"input.txt\") as f:\n",
    "    inputLines = f.read().splitlines() \n",
    "    total = 0\n",
    "    def getPartNum(line, start, end):\n",
    "        return \"\".join([x[max(0, start-1):end+1] for x in inputLines[max(0, line-1):line+2]])\n",
    "    for i, l in enumerate(inputLines):\n",
    "        for m in getNextMatches(l):\n",
    "            part = getPartNum(i, m.start(), m.end())\n",
    "            match = re.search('[^\\d\\.]', part)\n",
    "            if match:\n",
    "                total += int(m.group(0))\n",
    "            # re.search(\"[^\\d\\.]\", part)\n",
    "            # print(f\"line {i}: {m.group(0)} {part} {match}\")\n",
    "    print(total)\n",
    "\n"
   ]
  },
  {
   "cell_type": "code",
   "execution_count": null,
   "metadata": {},
   "outputs": [],
   "source": [
    "import re\n",
    "\n",
    "def getNextMatches(line):\n",
    "    return re.finditer(\"[0-9]+\", line)\n",
    "\n",
    "with open(\"input.txt\") as f:\n",
    "    inputLines = f.read().splitlines() \n",
    "    total = 0\n",
    "    def getPartNum(line, start, end):\n",
    "        return \"\".join([x[max(0, start-1):end+1] for x in inputLines[max(0, line-1):line+2]])\n",
    "    for i, l in enumerate(inputLines):\n",
    "        for m in getNextMatches(l):\n",
    "            part = getPartNum(i, m.start(), m.end())\n",
    "            match = re.search('[^\\d\\.]', part)\n",
    "            if match:\n",
    "                total += int(m.group(0))\n",
    "            # re.search(\"[^\\d\\.]\", part)\n",
    "            # print(f\"line {i}: {m.group(0)} {part} {match}\")\n",
    "    print(total)"
   ]
  },
  {
   "cell_type": "markdown",
   "metadata": {},
   "source": [
    "## Part Two\n",
    "\n",
    "The engineer finds the missing part and installs it in the engine! As the engine springs to life, you jump in the closest gondola, finally ready to ascend to the water source.\n",
    "\n",
    "You don't seem to be going very fast, though. Maybe something is still wrong? Fortunately, the gondola has a phone labeled \"help\", so you pick it up and the engineer answers.\n",
    "\n",
    "Before you can explain the situation, she suggests that you look out the window. There stands the engineer, holding a phone in one hand and waving with the other. You're going so slowly that you haven't even left the station. You exit the gondola.\n",
    "\n",
    "The missing part wasn't the only issue - one of the gears in the engine is wrong. A gear is any * symbol that is adjacent to exactly two part numbers. Its gear ratio is the result of multiplying those two numbers together.\n",
    "\n",
    "This time, you need to find the gear ratio of every gear and add them all up so that the engineer can figure out which gear needs to be replaced.\n",
    "\n",
    "Consider the same engine schematic again:\n",
    "\n",
    "```\n",
    "467..114..\n",
    "...*......\n",
    "..35..633.\n",
    "......#...\n",
    "617*......\n",
    ".....+.58.\n",
    "..592.....\n",
    "......755.\n",
    "...$.*....\n",
    ".664.598..\n",
    "```\n",
    "\n",
    "In this schematic, there are two gears. The first is in the top left; it has part numbers `467` and `35`, so its gear ratio is `16345`. The second gear is in the lower right; its gear ratio is `451490`. (The * adjacent to `617` is not a gear because it is only adjacent to one part number.) Adding up all of the gear ratios produces `467835`."
   ]
  },
  {
   "cell_type": "code",
   "execution_count": 7,
   "metadata": {},
   "outputs": [
    {
     "name": "stdout",
     "output_type": "stream",
     "text": [
      "79613331\n"
     ]
    }
   ],
   "source": [
    "import re\n",
    "\n",
    "testLines = \"\"\"\n",
    ".......467..114..\n",
    "..........*......\n",
    ".........35..633.\n",
    ".............#...\n",
    ".......617*......\n",
    "............+.58.\n",
    ".........592.....\n",
    ".............755.\n",
    "..........$.*....\n",
    "........664.598..\n",
    "\"\"\".split(\"\\n\")\n",
    "\n",
    "def getNextMatches(line):\n",
    "    return re.finditer(\"[0-9]+\", line)\n",
    "\n",
    "def getGearIndexes(parts, line, start, offset):\n",
    "    gearLocations = []\n",
    "    for i,p in enumerate(parts):\n",
    "        ms = re.finditer('\\*', p)\n",
    "        for m in ms:\n",
    "            gearLocations.append(f\"{i+line},{m.start()+start}\")\n",
    "    return gearLocations\n",
    "        \n",
    "def toRatio(location):\n",
    "    f,s = location.split(\",\")\n",
    "    return int(f)*int(s)\n",
    "\n",
    "def getAnswer(inputLines): \n",
    "    total = 0\n",
    "    gears = {}\n",
    "    def getPartNum(line, start, end):\n",
    "        return [x[start-1:end+1] for x in inputLines[max(0, line-1):line+2]]\n",
    "    for i, l in enumerate(inputLines):\n",
    "        # print(l)\n",
    "        for m in getNextMatches(l):\n",
    "            parts = getPartNum(i, m.start(), m.end())\n",
    "            # print(parts)\n",
    "            possibleGear = re.search('\\*', \"\".join(parts))\n",
    "        \n",
    "            if possibleGear:\n",
    "                indexes = getGearIndexes(parts, i, m.start(), 3-len(m.group(0)))\n",
    "                for index in indexes:\n",
    "                    if gears.get(index):\n",
    "                        gears[index].append(int(m.group(0)))\n",
    "                    else:\n",
    "                        gears[index] = [int(m.group(0))]\n",
    "    # print(gears)\n",
    "    # print([(k,v) for k,v in gears.items() if len(v) != 2])\n",
    "    return sum([ v[0]*v[1] for _,v in gears.items() if len(v) == 2])\n",
    "\n",
    "\n",
    "with open(\"input.txt\") as f:\n",
    "    inputLines = f.read().splitlines()  \n",
    "    # print(testLines)\n",
    "    # print(getAnswer(testLines))\n",
    "    print(getAnswer(inputLines))"
   ]
  },
  {
   "cell_type": "code",
   "execution_count": 5,
   "metadata": {},
   "outputs": [
    {
     "name": "stdout",
     "output_type": "stream",
     "text": [
      "79613331\n"
     ]
    }
   ],
   "source": [
    "import re\n",
    "f=[\"\",*[\".\"+l for l in open(\"i\")]]\n",
    "g,t={},0\n",
    "for i, l in enumerate(f):\n",
    " for m in re.finditer(\"[0-9]+\",l):\n",
    "  for k in [(j+i,c.start()+m.start())for j,p in enumerate([x[m.start()-1:m.end()+1]for x in f[i-1:i+2]])for c in re.finditer('\\*', p)]:\n",
    "   t+=int(m.group(0))*g.get(k,0)\n",
    "   g[k]=int(m.group(0))\n",
    "print(t)"
   ]
  },
  {
   "cell_type": "markdown",
   "metadata": {},
   "source": [
    "### Golf Work\n",
    "\n",
    "Saved for future reference"
   ]
  },
  {
   "cell_type": "code",
   "execution_count": null,
   "metadata": {},
   "outputs": [],
   "source": []
  }
 ],
 "metadata": {
  "kernelspec": {
   "display_name": "Python 3.9.6 64-bit",
   "language": "python",
   "name": "python3"
  },
  "language_info": {
   "codemirror_mode": {
    "name": "ipython",
    "version": 3
   },
   "file_extension": ".py",
   "mimetype": "text/x-python",
   "name": "python",
   "nbconvert_exporter": "python",
   "pygments_lexer": "ipython3",
   "version": "3.9.6"
  },
  "orig_nbformat": 4,
  "vscode": {
   "interpreter": {
    "hash": "31f2aee4e71d21fbe5cf8b01ff0e069b9275f58929596ceb00d14d90e3e16cd6"
   }
  }
 },
 "nbformat": 4,
 "nbformat_minor": 2
}
